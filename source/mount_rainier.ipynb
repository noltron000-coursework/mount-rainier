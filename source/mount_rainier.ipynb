{
 "cells": [
  {
   "cell_type": "markdown",
   "metadata": {},
   "source": [
    "# Mount Rainier\n",
    "Climbing Dataset.\n",
    "Check it out here:\n",
    "https://www.kaggle.com/codersree/mount-rainier-weather-and-climbing-data"
   ]
  },
  {
   "cell_type": "code",
   "execution_count": 79,
   "metadata": {},
   "outputs": [],
   "source": [
    "# various python import statements\n",
    "import pandas\n",
    "import seaborn\n",
    "import numpy\n",
    "import matplotlib.pyplot as pyplot"
   ]
  },
  {
   "cell_type": "code",
   "execution_count": 80,
   "metadata": {},
   "outputs": [],
   "source": [
    "# grabbing data\n",
    "climb_path = '../data/climbing_statistics.csv'\n",
    "weather_path = '../data/rainier_weather.csv'\n",
    "\n",
    "climb = pandas.read_csv(climb_path)\n",
    "weather = pandas.read_csv(weather_path)"
   ]
  },
  {
   "cell_type": "markdown",
   "metadata": {},
   "source": [
    "## Describe Data"
   ]
  },
  {
   "cell_type": "code",
   "execution_count": 81,
   "metadata": {},
   "outputs": [],
   "source": [
    "def describe_data(dataframe):\n",
    "\t'''\n",
    "\tsimply describes a dataset nicely by using\n",
    "\tvarious methods and print statements.\n",
    "\t'''\n",
    "\tprint(\n",
    "\t\t'\\n====================' \\\n",
    "\t\t'\\nDISPLAY HEAD OF DATA' \\\n",
    "\t\t'\\n====================' \\\n",
    "\t)\n",
    "\tdisplay(dataframe.head())\n",
    "\tprint(\n",
    "\t\t'\\n=====================' \\\n",
    "\t\t'\\nDISPLAY SHAPE OF DATA' \\\n",
    "\t\t'\\n=====================' \\\n",
    "\t)\n",
    "\tprint(dataframe.shape)\n",
    "\tprint(\n",
    "\t\t'\\n------------------' \\\n",
    "\t\t'\\nalso, take note of' \\\n",
    "\t\t'\\n duplicate dates! ' \\\n",
    "\t\t'\\n------------------' \\\n",
    "\t)\n",
    "\tprint(\n",
    "\t\t'(' \\\n",
    "\t\tf'{dataframe[\"Date\"].drop_duplicates().count()}' \\\n",
    "\t\t', 7)' \\\n",
    "\t)\n",
    "\tprint(\n",
    "\t\t'\\n=====================' \\\n",
    "\t\t'\\nDISPLAY TYPES OF DATA' \\\n",
    "\t\t'\\n=====================' \\\n",
    "\t)\n",
    "\tdataframe.info()\n",
    "\tprint(\n",
    "\t\t'\\n===================' \\\n",
    "\t\t'\\nMISSING DATA COUNTS' \\\n",
    "\t\t'\\n===================' \\\n",
    "\t)\n",
    "\tprint(dataframe.isnull().sum())"
   ]
  },
  {
   "cell_type": "code",
   "execution_count": 82,
   "metadata": {
    "scrolled": false
   },
   "outputs": [
    {
     "name": "stdout",
     "output_type": "stream",
     "text": [
      "\n",
      "====================\n",
      "DISPLAY HEAD OF DATA\n",
      "====================\n"
     ]
    },
    {
     "data": {
      "text/html": [
       "<div>\n",
       "<style scoped>\n",
       "    .dataframe tbody tr th:only-of-type {\n",
       "        vertical-align: middle;\n",
       "    }\n",
       "\n",
       "    .dataframe tbody tr th {\n",
       "        vertical-align: top;\n",
       "    }\n",
       "\n",
       "    .dataframe thead th {\n",
       "        text-align: right;\n",
       "    }\n",
       "</style>\n",
       "<table border=\"1\" class=\"dataframe\">\n",
       "  <thead>\n",
       "    <tr style=\"text-align: right;\">\n",
       "      <th></th>\n",
       "      <th>Date</th>\n",
       "      <th>Battery Voltage AVG</th>\n",
       "      <th>Temperature AVG</th>\n",
       "      <th>Relative Humidity AVG</th>\n",
       "      <th>Wind Speed Daily AVG</th>\n",
       "      <th>Wind Direction AVG</th>\n",
       "      <th>Solare Radiation AVG</th>\n",
       "    </tr>\n",
       "  </thead>\n",
       "  <tbody>\n",
       "    <tr>\n",
       "      <th>0</th>\n",
       "      <td>12/31/2015</td>\n",
       "      <td>13.845000</td>\n",
       "      <td>19.062917</td>\n",
       "      <td>21.870833</td>\n",
       "      <td>21.977792</td>\n",
       "      <td>62.325833</td>\n",
       "      <td>84.915292</td>\n",
       "    </tr>\n",
       "    <tr>\n",
       "      <th>1</th>\n",
       "      <td>12/30/2015</td>\n",
       "      <td>13.822917</td>\n",
       "      <td>14.631208</td>\n",
       "      <td>18.493833</td>\n",
       "      <td>3.540542</td>\n",
       "      <td>121.505417</td>\n",
       "      <td>86.192833</td>\n",
       "    </tr>\n",
       "    <tr>\n",
       "      <th>2</th>\n",
       "      <td>12/29/2015</td>\n",
       "      <td>13.834583</td>\n",
       "      <td>6.614292</td>\n",
       "      <td>34.072917</td>\n",
       "      <td>0.000000</td>\n",
       "      <td>130.291667</td>\n",
       "      <td>85.100917</td>\n",
       "    </tr>\n",
       "    <tr>\n",
       "      <th>3</th>\n",
       "      <td>12/28/2015</td>\n",
       "      <td>13.710417</td>\n",
       "      <td>8.687042</td>\n",
       "      <td>70.557917</td>\n",
       "      <td>0.000000</td>\n",
       "      <td>164.683750</td>\n",
       "      <td>86.241250</td>\n",
       "    </tr>\n",
       "    <tr>\n",
       "      <th>4</th>\n",
       "      <td>12/27/2015</td>\n",
       "      <td>13.362500</td>\n",
       "      <td>14.140417</td>\n",
       "      <td>95.754167</td>\n",
       "      <td>0.000000</td>\n",
       "      <td>268.479167</td>\n",
       "      <td>31.090708</td>\n",
       "    </tr>\n",
       "  </tbody>\n",
       "</table>\n",
       "</div>"
      ],
      "text/plain": [
       "         Date  Battery Voltage AVG  Temperature AVG  Relative Humidity AVG  \\\n",
       "0  12/31/2015            13.845000        19.062917              21.870833   \n",
       "1  12/30/2015            13.822917        14.631208              18.493833   \n",
       "2  12/29/2015            13.834583         6.614292              34.072917   \n",
       "3  12/28/2015            13.710417         8.687042              70.557917   \n",
       "4  12/27/2015            13.362500        14.140417              95.754167   \n",
       "\n",
       "   Wind Speed Daily AVG  Wind Direction AVG  Solare Radiation AVG  \n",
       "0             21.977792           62.325833             84.915292  \n",
       "1              3.540542          121.505417             86.192833  \n",
       "2              0.000000          130.291667             85.100917  \n",
       "3              0.000000          164.683750             86.241250  \n",
       "4              0.000000          268.479167             31.090708  "
      ]
     },
     "metadata": {},
     "output_type": "display_data"
    },
    {
     "name": "stdout",
     "output_type": "stream",
     "text": [
      "\n",
      "=====================\n",
      "DISPLAY SHAPE OF DATA\n",
      "=====================\n",
      "(464, 7)\n",
      "\n",
      "------------------\n",
      "also, take note of\n",
      " duplicate dates! \n",
      "------------------\n",
      "(464, 7)\n",
      "\n",
      "=====================\n",
      "DISPLAY TYPES OF DATA\n",
      "=====================\n",
      "<class 'pandas.core.frame.DataFrame'>\n",
      "RangeIndex: 464 entries, 0 to 463\n",
      "Data columns (total 7 columns):\n",
      "Date                     464 non-null object\n",
      "Battery Voltage AVG      464 non-null float64\n",
      "Temperature AVG          464 non-null float64\n",
      "Relative Humidity AVG    464 non-null float64\n",
      "Wind Speed Daily AVG     464 non-null float64\n",
      "Wind Direction AVG       464 non-null float64\n",
      "Solare Radiation AVG     464 non-null float64\n",
      "dtypes: float64(6), object(1)\n",
      "memory usage: 25.5+ KB\n",
      "\n",
      "===================\n",
      "MISSING DATA COUNTS\n",
      "===================\n",
      "Date                     0\n",
      "Battery Voltage AVG      0\n",
      "Temperature AVG          0\n",
      "Relative Humidity AVG    0\n",
      "Wind Speed Daily AVG     0\n",
      "Wind Direction AVG       0\n",
      "Solare Radiation AVG     0\n",
      "dtype: int64\n"
     ]
    }
   ],
   "source": [
    "describe_data(weather)"
   ]
  },
  {
   "cell_type": "code",
   "execution_count": 83,
   "metadata": {
    "scrolled": false
   },
   "outputs": [
    {
     "name": "stdout",
     "output_type": "stream",
     "text": [
      "\n",
      "====================\n",
      "DISPLAY HEAD OF DATA\n",
      "====================\n"
     ]
    },
    {
     "data": {
      "text/html": [
       "<div>\n",
       "<style scoped>\n",
       "    .dataframe tbody tr th:only-of-type {\n",
       "        vertical-align: middle;\n",
       "    }\n",
       "\n",
       "    .dataframe tbody tr th {\n",
       "        vertical-align: top;\n",
       "    }\n",
       "\n",
       "    .dataframe thead th {\n",
       "        text-align: right;\n",
       "    }\n",
       "</style>\n",
       "<table border=\"1\" class=\"dataframe\">\n",
       "  <thead>\n",
       "    <tr style=\"text-align: right;\">\n",
       "      <th></th>\n",
       "      <th>Date</th>\n",
       "      <th>Route</th>\n",
       "      <th>Attempted</th>\n",
       "      <th>Succeeded</th>\n",
       "      <th>Success Percentage</th>\n",
       "    </tr>\n",
       "  </thead>\n",
       "  <tbody>\n",
       "    <tr>\n",
       "      <th>0</th>\n",
       "      <td>11/27/2015</td>\n",
       "      <td>Disappointment Cleaver</td>\n",
       "      <td>2</td>\n",
       "      <td>0</td>\n",
       "      <td>0.0</td>\n",
       "    </tr>\n",
       "    <tr>\n",
       "      <th>1</th>\n",
       "      <td>11/21/2015</td>\n",
       "      <td>Disappointment Cleaver</td>\n",
       "      <td>3</td>\n",
       "      <td>0</td>\n",
       "      <td>0.0</td>\n",
       "    </tr>\n",
       "    <tr>\n",
       "      <th>2</th>\n",
       "      <td>10/15/2015</td>\n",
       "      <td>Disappointment Cleaver</td>\n",
       "      <td>2</td>\n",
       "      <td>0</td>\n",
       "      <td>0.0</td>\n",
       "    </tr>\n",
       "    <tr>\n",
       "      <th>3</th>\n",
       "      <td>10/13/2015</td>\n",
       "      <td>Little Tahoma</td>\n",
       "      <td>8</td>\n",
       "      <td>0</td>\n",
       "      <td>0.0</td>\n",
       "    </tr>\n",
       "    <tr>\n",
       "      <th>4</th>\n",
       "      <td>10/9/2015</td>\n",
       "      <td>Disappointment Cleaver</td>\n",
       "      <td>2</td>\n",
       "      <td>0</td>\n",
       "      <td>0.0</td>\n",
       "    </tr>\n",
       "  </tbody>\n",
       "</table>\n",
       "</div>"
      ],
      "text/plain": [
       "         Date                   Route  Attempted  Succeeded  \\\n",
       "0  11/27/2015  Disappointment Cleaver          2          0   \n",
       "1  11/21/2015  Disappointment Cleaver          3          0   \n",
       "2  10/15/2015  Disappointment Cleaver          2          0   \n",
       "3  10/13/2015           Little Tahoma          8          0   \n",
       "4   10/9/2015  Disappointment Cleaver          2          0   \n",
       "\n",
       "   Success Percentage  \n",
       "0                 0.0  \n",
       "1                 0.0  \n",
       "2                 0.0  \n",
       "3                 0.0  \n",
       "4                 0.0  "
      ]
     },
     "metadata": {},
     "output_type": "display_data"
    },
    {
     "name": "stdout",
     "output_type": "stream",
     "text": [
      "\n",
      "=====================\n",
      "DISPLAY SHAPE OF DATA\n",
      "=====================\n",
      "(4077, 5)\n",
      "\n",
      "------------------\n",
      "also, take note of\n",
      " duplicate dates! \n",
      "------------------\n",
      "(391, 7)\n",
      "\n",
      "=====================\n",
      "DISPLAY TYPES OF DATA\n",
      "=====================\n",
      "<class 'pandas.core.frame.DataFrame'>\n",
      "RangeIndex: 4077 entries, 0 to 4076\n",
      "Data columns (total 5 columns):\n",
      "Date                  4077 non-null object\n",
      "Route                 4077 non-null object\n",
      "Attempted             4077 non-null int64\n",
      "Succeeded             4077 non-null int64\n",
      "Success Percentage    4077 non-null float64\n",
      "dtypes: float64(1), int64(2), object(2)\n",
      "memory usage: 159.3+ KB\n",
      "\n",
      "===================\n",
      "MISSING DATA COUNTS\n",
      "===================\n",
      "Date                  0\n",
      "Route                 0\n",
      "Attempted             0\n",
      "Succeeded             0\n",
      "Success Percentage    0\n",
      "dtype: int64\n"
     ]
    }
   ],
   "source": [
    "describe_data(climb)"
   ]
  },
  {
   "cell_type": "markdown",
   "metadata": {},
   "source": [
    "Something important to notice is that the number of \"attempted\" people and \"succeeded\" people are not grouped together.\n",
    "8 \"attempted\" can be made with a group of 4 people, a group of 2 people, and two groups of 1 person.\n",
    "The data is not explicit, although it would have been interesting to know if larger or smaller groups had higher success rates overall.\n",
    "\n",
    "---"
   ]
  },
  {
   "cell_type": "markdown",
   "metadata": {},
   "source": [
    "## Clean Data"
   ]
  },
  {
   "cell_type": "code",
   "execution_count": 84,
   "metadata": {},
   "outputs": [],
   "source": [
    "# dates should be kept as a date object\n",
    "weather['Date'] = pandas.to_datetime(weather['Date'])\n",
    "climb['Date'] = pandas.to_datetime(climb['Date'])\n",
    "\n",
    "# this doesn't seem necessary\n",
    "# weather = weather.drop(['Battery Voltage AVG'], 1)\n",
    "climb = climb.drop(['Success Percentage'], 1)\n",
    "# recalculate columns\n",
    "climb['Success Rate'] = climb['Succeeded']/climb['Attempted']"
   ]
  },
  {
   "cell_type": "code",
   "execution_count": 85,
   "metadata": {},
   "outputs": [],
   "source": [
    "# we need to join the weather data with the climbing data\n",
    "# we want to put the weather for the respective dates within the climbing data\n",
    "# weather data without any attempts can be deleted or kept aside\n",
    "data = pandas.merge(climb, weather, how=\"left\", on=[\"Date\"])"
   ]
  },
  {
   "cell_type": "code",
   "execution_count": 86,
   "metadata": {},
   "outputs": [
    {
     "data": {
      "text/html": [
       "<div>\n",
       "<style scoped>\n",
       "    .dataframe tbody tr th:only-of-type {\n",
       "        vertical-align: middle;\n",
       "    }\n",
       "\n",
       "    .dataframe tbody tr th {\n",
       "        vertical-align: top;\n",
       "    }\n",
       "\n",
       "    .dataframe thead th {\n",
       "        text-align: right;\n",
       "    }\n",
       "</style>\n",
       "<table border=\"1\" class=\"dataframe\">\n",
       "  <thead>\n",
       "    <tr style=\"text-align: right;\">\n",
       "      <th></th>\n",
       "      <th>Date</th>\n",
       "      <th>Route</th>\n",
       "      <th>Attempted</th>\n",
       "      <th>Succeeded</th>\n",
       "      <th>Success Rate</th>\n",
       "      <th>Battery Voltage AVG</th>\n",
       "      <th>Temperature AVG</th>\n",
       "      <th>Relative Humidity AVG</th>\n",
       "      <th>Wind Speed Daily AVG</th>\n",
       "      <th>Wind Direction AVG</th>\n",
       "      <th>Solare Radiation AVG</th>\n",
       "    </tr>\n",
       "  </thead>\n",
       "  <tbody>\n",
       "    <tr>\n",
       "      <th>0</th>\n",
       "      <td>2015-11-27</td>\n",
       "      <td>Disappointment Cleaver</td>\n",
       "      <td>2</td>\n",
       "      <td>0</td>\n",
       "      <td>0.0</td>\n",
       "      <td>13.643750</td>\n",
       "      <td>26.321667</td>\n",
       "      <td>19.715000</td>\n",
       "      <td>27.839583</td>\n",
       "      <td>68.004167</td>\n",
       "      <td>88.496250</td>\n",
       "    </tr>\n",
       "    <tr>\n",
       "      <th>1</th>\n",
       "      <td>2015-11-21</td>\n",
       "      <td>Disappointment Cleaver</td>\n",
       "      <td>3</td>\n",
       "      <td>0</td>\n",
       "      <td>0.0</td>\n",
       "      <td>13.749583</td>\n",
       "      <td>31.300000</td>\n",
       "      <td>21.690708</td>\n",
       "      <td>2.245833</td>\n",
       "      <td>117.549667</td>\n",
       "      <td>93.660417</td>\n",
       "    </tr>\n",
       "    <tr>\n",
       "      <th>2</th>\n",
       "      <td>2015-10-15</td>\n",
       "      <td>Disappointment Cleaver</td>\n",
       "      <td>2</td>\n",
       "      <td>0</td>\n",
       "      <td>0.0</td>\n",
       "      <td>13.461250</td>\n",
       "      <td>46.447917</td>\n",
       "      <td>27.211250</td>\n",
       "      <td>17.163625</td>\n",
       "      <td>259.121375</td>\n",
       "      <td>138.387000</td>\n",
       "    </tr>\n",
       "    <tr>\n",
       "      <th>3</th>\n",
       "      <td>2015-10-13</td>\n",
       "      <td>Little Tahoma</td>\n",
       "      <td>8</td>\n",
       "      <td>0</td>\n",
       "      <td>0.0</td>\n",
       "      <td>13.532083</td>\n",
       "      <td>40.979583</td>\n",
       "      <td>28.335708</td>\n",
       "      <td>19.591167</td>\n",
       "      <td>279.779167</td>\n",
       "      <td>176.382667</td>\n",
       "    </tr>\n",
       "    <tr>\n",
       "      <th>4</th>\n",
       "      <td>2015-10-09</td>\n",
       "      <td>Disappointment Cleaver</td>\n",
       "      <td>2</td>\n",
       "      <td>0</td>\n",
       "      <td>0.0</td>\n",
       "      <td>13.216250</td>\n",
       "      <td>38.260417</td>\n",
       "      <td>74.329167</td>\n",
       "      <td>65.138333</td>\n",
       "      <td>264.687500</td>\n",
       "      <td>27.791292</td>\n",
       "    </tr>\n",
       "  </tbody>\n",
       "</table>\n",
       "</div>"
      ],
      "text/plain": [
       "        Date                   Route  Attempted  Succeeded  Success Rate  \\\n",
       "0 2015-11-27  Disappointment Cleaver          2          0           0.0   \n",
       "1 2015-11-21  Disappointment Cleaver          3          0           0.0   \n",
       "2 2015-10-15  Disappointment Cleaver          2          0           0.0   \n",
       "3 2015-10-13           Little Tahoma          8          0           0.0   \n",
       "4 2015-10-09  Disappointment Cleaver          2          0           0.0   \n",
       "\n",
       "   Battery Voltage AVG  Temperature AVG  Relative Humidity AVG  \\\n",
       "0            13.643750        26.321667              19.715000   \n",
       "1            13.749583        31.300000              21.690708   \n",
       "2            13.461250        46.447917              27.211250   \n",
       "3            13.532083        40.979583              28.335708   \n",
       "4            13.216250        38.260417              74.329167   \n",
       "\n",
       "   Wind Speed Daily AVG  Wind Direction AVG  Solare Radiation AVG  \n",
       "0             27.839583           68.004167             88.496250  \n",
       "1              2.245833          117.549667             93.660417  \n",
       "2             17.163625          259.121375            138.387000  \n",
       "3             19.591167          279.779167            176.382667  \n",
       "4             65.138333          264.687500             27.791292  "
      ]
     },
     "metadata": {},
     "output_type": "display_data"
    }
   ],
   "source": [
    "display(data.head())"
   ]
  },
  {
   "cell_type": "code",
   "execution_count": 87,
   "metadata": {},
   "outputs": [],
   "source": [
    "del weather\n",
    "del climb"
   ]
  },
  {
   "cell_type": "markdown",
   "metadata": {},
   "source": [
    "Something else to consider:\n",
    "certain dates have multiple entries.\n",
    "A group of five might check out Disappointment Cleaver, while a group of three might check out Little Tahoma.\n",
    "If these entries do *not* represent associated groups of people, then they should be merged into one single day.\n",
    "\n",
    "---"
   ]
  },
  {
   "cell_type": "markdown",
   "metadata": {},
   "source": [
    "## Normalize Data"
   ]
  },
  {
   "cell_type": "code",
   "execution_count": null,
   "metadata": {},
   "outputs": [],
   "source": []
  },
  {
   "cell_type": "markdown",
   "metadata": {},
   "source": [
    "## Correlation Heatmap"
   ]
  },
  {
   "cell_type": "code",
   "execution_count": 88,
   "metadata": {},
   "outputs": [],
   "source": [
    "# == NOTE ==\n",
    "# sample code used from https://seaborn.pydata.org/examples/many_pairwise_correlations.html\n",
    "\n",
    "def heatmap(data):\n",
    "\t# set up grid style\n",
    "\tseaborn.set(style='white')\n",
    "\n",
    "\t# compute the correlation matrix\n",
    "\tcorrelation = data.corr().abs()\n",
    "\n",
    "\t# generate a mask for the upper triangle\n",
    "\tmask = numpy.zeros_like(correlation, dtype=numpy.bool)\n",
    "\tmask[numpy.triu_indices_from(mask)] = True\n",
    "\n",
    "\t# set up the matplotlib figure\n",
    "\tpyplot.subplots(figsize=(12, 8))\n",
    "\n",
    "\t# generate a custom diverging colormap\n",
    "\tcmap = seaborn.cubehelix_palette(light=1, as_cmap=True)\n",
    "\n",
    "\t# draw the heatmap with the mask and correct aspect ratio\n",
    "\tseaborn.heatmap(correlation, mask=mask, cmap=cmap, vmax=1, vmin=0, square=True)"
   ]
  },
  {
   "cell_type": "code",
   "execution_count": 89,
   "metadata": {},
   "outputs": [
    {
     "data": {
      "image/png": "[encoded data removed]",
      "text/plain": [
       "<Figure size 864x576 with 2 Axes>"
      ]
     },
     "metadata": {},
     "output_type": "display_data"
    }
   ],
   "source": [
    "heatmap(data)"
   ]
  },
  {
   "cell_type": "markdown",
   "metadata": {},
   "source": [
    "Some of the data seems redundent, or highly coorelated.\n",
    "For example, we really do not need to know the number of people who succeeded, nor do we need to know the number of people who attempted.\n",
    "What really matters is the success rate."
   ]
  },
  {
   "cell_type": "code",
   "execution_count": 90,
   "metadata": {},
   "outputs": [],
   "source": [
    "data = data.drop([\n",
    "\t'Attempted',\n",
    "\t'Succeeded',\n",
    "\t'Battery Voltage AVG'\n",
    "], 1)"
   ]
  },
  {
   "cell_type": "code",
   "execution_count": 91,
   "metadata": {},
   "outputs": [
    {
     "data": {
      "image/png": "[encoded data removed]",
      "text/plain": [
       "<Figure size 864x576 with 2 Axes>"
      ]
     },
     "metadata": {},
     "output_type": "display_data"
    }
   ],
   "source": [
    "heatmap(data)"
   ]
  },
  {
   "cell_type": "markdown",
   "metadata": {},
   "source": [
    "Something strange that I personally have noticed is that there is not a specific way in this data to determine whether it was raining/snowing on a particular day.\n",
    "One would think this is a particularly important factor when considering the weather in any particular study.\n",
    "\n",
    "Perhaps this was not an oversight.\n",
    "Perhaps it never or always rains on mount rainier.\n",
    "It is something to look into in the future, when I revisit this dataset.\n",
    "\n",
    "---"
   ]
  },
  {
   "cell_type": "code",
   "execution_count": null,
   "metadata": {},
   "outputs": [],
   "source": []
  }
 ],
 "metadata": {
  "kernelspec": {
   "display_name": "Python 3",
   "language": "python",
   "name": "python3"
  },
  "language_info": {
   "codemirror_mode": {
    "name": "ipython",
    "version": 3
   },
   "file_extension": ".py",
   "mimetype": "text/x-python",
   "name": "python",
   "nbconvert_exporter": "python",
   "pygments_lexer": "ipython3",
   "version": "3.7.3"
  }
 },
 "nbformat": 4,
 "nbformat_minor": 2
}
